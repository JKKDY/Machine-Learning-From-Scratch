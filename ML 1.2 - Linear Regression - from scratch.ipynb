{
 "cells": [
  {
   "cell_type": "markdown",
   "metadata": {},
   "source": [
    "Internet Resources:  \n",
    "\n",
    "[Python Programming.net - machine learning episodes 1-11](https://pythonprogramming.net/machine-learning-tutorial-python-introduction/)  \n",
    "[Khan Acadamy linear regression (whole playlist)](https://www.khanacademy.org/math/statistics-probability/describing-relationships-quantitative-data/more-on-regression/v/squared-error-of-regression-line)"
   ]
  },
  {
   "cell_type": "code",
   "execution_count": 2,
   "metadata": {
    "scrolled": false
   },
   "outputs": [
    {
     "data": {
      "image/png": "[encoded data removed]",
      "text/plain": [
       "<Figure size 432x288 with 1 Axes>"
      ]
     },
     "metadata": {
      "needs_background": "light"
     },
     "output_type": "display_data"
    }
   ],
   "source": [
    "from statistics import mean\n",
    "import numpy as np\n",
    "import matplotlib.pyplot as plt\n",
    "from matplotlib import style\n",
    "\n",
    "#data\n",
    "xs = np.array([1,2,3,4,5,6], dtype=np.float64)\n",
    "ys = np.array([5,4,6,5,6,8], dtype=np.float64)\n",
    "\n",
    "plt.scatter(xs, ys)\n",
    "plt.show()"
   ]
  },
  {
   "cell_type": "code",
   "execution_count": 3,
   "metadata": {
    "scrolled": false
   },
   "outputs": [
    {
     "name": "stdout",
     "output_type": "stream",
     "text": [
      "m:  0.5714285714285707\n",
      "b:  3.6666666666666696\n",
      "r_squared 0.6122448979591837\n"
     ]
    }
   ],
   "source": [
    "# calculating\n",
    "m = (((mean(xs)*mean(ys)) - mean(xs*ys)) / ((mean(xs)**2) - mean(xs**2)))\n",
    "print(\"m: \", m)\n",
    "\n",
    "\n",
    "b = mean(ys) - m * mean(xs)\n",
    "print(\"b: \", b)\n",
    "\n",
    "\n",
    "regression_line = [m*x + b for x in xs]\n",
    "\n",
    "\n",
    "def squared_error(ys_orig,ys_line):\n",
    "    return sum((ys_line - ys_orig) * (ys_line - ys_orig))\n",
    "\n",
    "y_mean_line = [mean(ys) for y in ys]\n",
    "\n",
    "squared_error_regr = squared_error(ys, regression_line)\n",
    "squared_error_y_mean = squared_error(ys, y_mean_line)\n",
    "    \n",
    "r_squared = 1 - (squared_error_regr/squared_error_y_mean)\n",
    "print(\"r_squared\", r_squared)"
   ]
  },
  {
   "cell_type": "code",
   "execution_count": 4,
   "metadata": {},
   "outputs": [],
   "source": [
    "# predicting\n",
    "\n",
    "predict_x = 8\n",
    "predict_y = m*predict_x + b\n",
    "predict_y"
   ]
  },
  {
   "cell_type": "code",
   "execution_count": 5,
   "metadata": {},
   "outputs": [
    {
     "data": {
      "image/png": "[encoded data removed]",
      "text/plain": [
       "<Figure size 432x288 with 1 Axes>"
      ]
     },
     "metadata": {},
     "output_type": "display_data"
    }
   ],
   "source": [
    "# plotting\n",
    "style.use('ggplot')\n",
    "plt.scatter(xs,ys,color='#003F72')\n",
    "plt.scatter(predict_x, predict_y, color = \"g\")\n",
    "plt.plot(xs, regression_line)\n",
    "plt.show()"
   ]
  }
 ],
 "metadata": {
  "kernelspec": {
   "display_name": "env",
   "language": "python",
   "name": "env"
  },
  "language_info": {
   "codemirror_mode": {
    "name": "ipython",
    "version": 3
   },
   "file_extension": ".py",
   "mimetype": "text/x-python",
   "name": "python",
   "nbconvert_exporter": "python",
   "pygments_lexer": "ipython3",
   "version": "3.7.4"
  }
 },
 "nbformat": 4,
 "nbformat_minor": 2
}
