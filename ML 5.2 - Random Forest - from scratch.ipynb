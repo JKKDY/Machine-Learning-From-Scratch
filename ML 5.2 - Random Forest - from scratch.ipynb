{
 "cells": [
  {
   "cell_type": "markdown",
   "metadata": {},
   "source": [
    "Internet Resources:\n",
    "\n",
    "[handson-ml/07_ensemble_learning_and_random_forests.ipynb](https://github.com/ageron/handson-ml/blob/master/07_ensemble_learning_and_random_forests.ipynb)    \n",
    "[torwarsdatascience - understanding random forests](https://towardsdatascience.com/understanding-random-forest-58381e0602d2)  \n",
    "[Bootstrap aggregating bagging](https://www.youtube.com/watch?v=2Mg8QD0F1dQ)  \n",
    "[StatQuest: Random Forests](https://www.youtube.com/watch?v=J4Wdy0Wc_xQ)  "
   ]
  },
  {
   "cell_type": "code",
   "execution_count": 1,
   "metadata": {
    "scrolled": false
   },
   "outputs": [
    {
     "data": {
      "image/png": "[encoded data removed]",
      "text/plain": [
       "<Figure size 432x288 with 1 Axes>"
      ]
     },
     "metadata": {
      "needs_background": "light"
     },
     "output_type": "display_data"
    }
   ],
   "source": [
    "%matplotlib inline\n",
    "from statistics import mode \n",
    "import matplotlib.pyplot as plt\n",
    "import numpy as np\n",
    "from sklearn.model_selection import train_test_split\n",
    "from sklearn.datasets import make_moons\n",
    "from sklearn.metrics import accuracy_score\n",
    "from sklearn.tree import DecisionTreeClassifier\n",
    "\n",
    "X, y = make_moons(n_samples=500, noise=0.30, random_state=42)\n",
    "X_train, X_test, y_train, y_test = train_test_split(X, y, random_state=42)\n",
    "\n",
    "plt.scatter(X_train[:,0][y_train==0], X_train[:,1][y_train==0], color=\"b\")\n",
    "plt.scatter(X_train[:,0][y_train==1], X_train[:,1][y_train==1], color=\"r\")\n",
    "\n",
    "plt.show()"
   ]
  },
  {
   "cell_type": "code",
   "execution_count": 2,
   "metadata": {},
   "outputs": [
    {
     "name": "stdout",
     "output_type": "stream",
     "text": [
      "accuracy: 0.904\n"
     ]
    }
   ],
   "source": [
    "class RandomForestClassifier:\n",
    "    def __init__(self, n_trees,  max_depth=None, max_features=None, bagging_size=0.6, random_seed=42):\n",
    "        self.bagging_size = bagging_size\n",
    "        self.n_trees = n_trees\n",
    "        self.max_depth=max_depth\n",
    "        self.max_features = max_features\n",
    "        np.random.seed(random_seed)\n",
    "        self.forest = []\n",
    "        \n",
    "    def create_bootstrapped_dataset(self, data, labels):\n",
    "        bootstrp_data = []\n",
    "        bootstrp_labels = []\n",
    "        idx = np.random.randint(data.shape[0], size=(self.n_trees, int(data.shape[0]*self.bagging_size)))\n",
    "        for i in range(self.n_trees):\n",
    "            bootstrp_data.append(data[idx[i],:])\n",
    "            bootstrp_labels.append(labels[idx[i]])\n",
    "        return bootstrp_data, bootstrp_labels\n",
    "            \n",
    "    \n",
    "    def fit(self, data, labels):\n",
    "        bootstrapped_data, bootstrapped_labels = self.create_bootstrapped_dataset(data, labels)\n",
    "        for i in range(self.n_trees):\n",
    "            # create uncorrelated trees\n",
    "            tree = DecisionTreeClassifier(max_depth=self.max_depth, max_features=self.max_features)\n",
    "            tree.fit(bootstrapped_data[i], bootstrapped_labels[i])\n",
    "            self.forest.append(tree)\n",
    "        \n",
    "    def predict(self, samples):\n",
    "        predictions = np.array([tree.predict(samples) for tree in self.forest]).T\n",
    "        \n",
    "        ret = []\n",
    "        for pred in predictions:\n",
    "            a = np.argmax(np.bincount(pred))\n",
    "            ret.append(a)\n",
    "        \n",
    "        return np.array(ret)\n",
    "        \n",
    "        \n",
    "            \n",
    "clf = RandomForestClassifier(n_trees=10, max_depth=None, max_features=1)\n",
    "clf.fit(X_train, y_train)\n",
    "y_pred = clf.predict(X_test)\n",
    "print(\"accuracy: {}\".format(accuracy_score(y_test, y_pred)))"
   ]
  }
 ],
 "metadata": {
  "kernelspec": {
   "display_name": "env",
   "language": "python",
   "name": "env"
  },
  "language_info": {
   "codemirror_mode": {
    "name": "ipython",
    "version": 3
   },
   "file_extension": ".py",
   "mimetype": "text/x-python",
   "name": "python",
   "nbconvert_exporter": "python",
   "pygments_lexer": "ipython3",
   "version": "3.7.4"
  }
 },
 "nbformat": 4,
 "nbformat_minor": 2
}
