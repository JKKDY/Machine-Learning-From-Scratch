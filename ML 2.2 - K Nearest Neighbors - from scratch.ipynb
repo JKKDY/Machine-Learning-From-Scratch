{
 "cells": [
  {
   "cell_type": "markdown",
   "metadata": {},
   "source": [
    "Internet Resources:\n",
    "\n",
    "[Python Programming.net - machine learning episodes 13-19](https://pythonprogramming.net/k-nearest-neighbors-intro-machine-learning-tutorial/)"
   ]
  },
  {
   "cell_type": "code",
   "execution_count": 1,
   "metadata": {
    "scrolled": false
   },
   "outputs": [
    {
     "data": {
      "image/png": "[encoded data removed]",
      "text/plain": [
       "<Figure size 432x288 with 1 Axes>"
      ]
     },
     "metadata": {},
     "output_type": "display_data"
    }
   ],
   "source": [
    "import numpy as np\n",
    "import matplotlib.pyplot as plt\n",
    "from matplotlib import style\n",
    "import warnings\n",
    "from math import sqrt\n",
    "from collections import Counter\n",
    "import pandas as pd\n",
    "import random\n",
    "\n",
    "style.use('fivethirtyeight')\n",
    "\n",
    "# we are creating our own dataset with two classes \"k\" and \"r\"\n",
    "# k are all the black dots, r are all the red dots\n",
    "dataset = {'k':[[1,2],[2,3],[3,1]], 'r':[[6,5],[7,7],[8,6]]} \n",
    "# the blue dot is our query that we want to classify\n",
    "new_features = [5,7]\n",
    "\n",
    "[[plt.scatter(ii[0],ii[1],s=100,color=i) for ii in dataset[i]] for i in dataset]\n",
    "plt.scatter(new_features[0], new_features[1], s=100)\n",
    "\n",
    "plt.show()"
   ]
  },
  {
   "cell_type": "code",
   "execution_count": 2,
   "metadata": {
    "scrolled": true
   },
   "outputs": [
    {
     "name": "stdout",
     "output_type": "stream",
     "text": [
      "result: r confidence:  3\n"
     ]
    },
    {
     "data": {
      "image/png": "[encoded data removed]",
      "text/plain": [
       "<Figure size 432x288 with 1 Axes>"
      ]
     },
     "metadata": {},
     "output_type": "display_data"
    }
   ],
   "source": [
    "#k nearest neighbors\n",
    "def knn(data, predict, k=3):\n",
    "    # check that there are enough training samples\n",
    "    if len(data) >= k:\n",
    "        warnings.warn('K is set to a value less than total voting groups!')\n",
    "    \n",
    "    # calculate distances\n",
    "    distances = []\n",
    "    for group in data:\n",
    "        for features in data[group]:\n",
    "            euclidean_distance = np.sqrt(np.sum((np.array(features)-np.array(predict))**2))\n",
    "            distances.append([euclidean_distance,group])\n",
    "    \n",
    "    # find majority class of the k nearest points\n",
    "    votes = [i[1] for i in sorted(distances)[:k]] \n",
    "    vote_result = Counter(votes).most_common(1)[0][0] # most common class of the k nearest neighbors\n",
    "    confidence = Counter(votes).most_common(1)[0][1] # confidence is the amount of neighbors of the majority class\n",
    "    \n",
    "    return vote_result, confidence\n",
    "\n",
    "result, conf = knn(dataset, new_features, 3)\n",
    "print(\"result:\", result, \"confidence: \", conf)\n",
    "[[plt.scatter(ii[0],ii[1],s=100,color=i) for ii in dataset[i]] for i in dataset]\n",
    "plt.scatter(new_features[0], new_features[1], s=100, color = result)  \n",
    "plt.show()"
   ]
  },
  {
   "cell_type": "code",
   "execution_count": 3,
   "metadata": {},
   "outputs": [
    {
     "name": "stdout",
     "output_type": "stream",
     "text": [
      "wrong classification, sample:  [10.0, 3.0, 2.0, 6.0, 4.0, 3.0, 10.0, 1.0, 4.0] confidence:  5\n",
      "wrong classification, sample:  [10.0, 3.0, 2.0, 6.0, 4.0, 3.0, 10.0, 1.0, 4.0] confidence:  5\n",
      "wrong classification, sample:  [10.0, 3.0, 2.0, 6.0, 4.0, 3.0, 10.0, 1.0, 4.0] confidence:  3\n",
      "Accuracy: 0.9784172661870504\n"
     ]
    }
   ],
   "source": [
    "# example with the breast cancer dataset\n",
    "df = pd.read_csv('data/breast-cancer-wisconsin.data') # data from https://archive.ics.uci.edu/ml/datasets/Breast+Cancer+Wisconsin+%28Original%29\n",
    "df.replace('?',-99999, inplace=True)\n",
    "df.drop(['id'], 1, inplace=True)\n",
    "full_data = df.astype(float).values.tolist()\n",
    "\n",
    "random.shuffle(full_data)\n",
    "test_size = 0.2 # =20%\n",
    "train_set = {2:[], 4:[]}\n",
    "test_set = {2:[], 4:[]}\n",
    "train_data = full_data[:-int(test_size*len(full_data))]\n",
    "test_data = full_data[-int(test_size*len(full_data)):]\n",
    "\n",
    "for sample in train_data:\n",
    "    train_set[sample[-1]].append(sample[:-1])  # for dict[sample[:-1]] append everything up to sample[-1]\n",
    "\n",
    "for sample in test_data:\n",
    "    test_set[sample[-1]].append(sample[:-1])\n",
    "    \n",
    "correct = 0\n",
    "total = 0\n",
    "\n",
    "for group in test_set:\n",
    "    for data in test_set[group]:\n",
    "        vote, confidence = knn(train_set, data, k=5)\n",
    "        if group == vote:\n",
    "            correct += 1\n",
    "        else: \n",
    "            print(\"wrong classification, sample: \", sample, \"confidence: \", confidence)\n",
    "        total += 1\n",
    "print('Accuracy:', correct/total)"
   ]
  }
 ],
 "metadata": {
  "kernelspec": {
   "display_name": "tutorial-env",
   "language": "python",
   "name": "tutorial-env"
  },
  "language_info": {
   "codemirror_mode": {
    "name": "ipython",
    "version": 3
   },
   "file_extension": ".py",
   "mimetype": "text/x-python",
   "name": "python",
   "nbconvert_exporter": "python",
   "pygments_lexer": "ipython3",
   "version": "3.8.3"
  }
 },
 "nbformat": 4,
 "nbformat_minor": 2
}
