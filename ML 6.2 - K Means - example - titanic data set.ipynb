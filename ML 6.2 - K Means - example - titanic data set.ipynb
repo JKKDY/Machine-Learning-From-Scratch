{
 "cells": [
  {
   "cell_type": "markdown",
   "metadata": {},
   "source": [
    "Internet Resources:\n",
    "\n",
    "[Python Programming.net - machine learning episodes 34-38](https://pythonprogramming.net/machine-learning-clustering-introduction-machine-learning-tutorial/)"
   ]
  },
  {
   "cell_type": "code",
   "execution_count": 1,
   "metadata": {
    "scrolled": true
   },
   "outputs": [
    {
     "name": "stdout",
     "output_type": "stream",
     "text": [
      "   pclass  survived     sex      age  sibsp  parch  ticket      fare    cabin  \\\n",
      "0       1         1  female  29.0000      0      0   24160  211.3375       B5   \n",
      "1       1         1    male   0.9167      1      2  113781  151.5500  C22 C26   \n",
      "2       1         0  female   2.0000      1      2  113781  151.5500  C22 C26   \n",
      "3       1         0    male  30.0000      1      2  113781  151.5500  C22 C26   \n",
      "4       1         0  female  25.0000      1      2  113781  151.5500  C22 C26   \n",
      "\n",
      "  embarked boat                        home.dest  \n",
      "0        S    2                     St Louis, MO  \n",
      "1        S   11  Montreal, PQ / Chesterville, ON  \n",
      "2        S    0  Montreal, PQ / Chesterville, ON  \n",
      "3        S    0  Montreal, PQ / Chesterville, ON  \n",
      "4        S    0  Montreal, PQ / Chesterville, ON  \n"
     ]
    }
   ],
   "source": [
    "import matplotlib.pyplot as plt\n",
    "from matplotlib import style\n",
    "style.use('ggplot')\n",
    "import numpy as np\n",
    "from sklearn.cluster import KMeans\n",
    "from sklearn import preprocessing\n",
    "import pandas as pd\n",
    "\n",
    "\n",
    "df = pd.read_excel('data/titanic.xls') # data from https://pythonprogramming.net/static/downloads/machine-learning-data/titanic.xls\n",
    "\n",
    "'''\n",
    "Pclass Passenger Class (1 = 1st; 2 = 2nd; 3 = 3rd)\n",
    "survival Survival (0 = No; 1 = Yes)\n",
    "name Name\n",
    "sex Sex\n",
    "age Age\n",
    "sibsp Number of Siblings/Spouses Aboard\n",
    "parch Number of Parents/Children Aboard\n",
    "ticket Ticket Number\n",
    "fare Passenger Fare (British pound)\n",
    "cabin Cabin\n",
    "embarked Port of Embarkation (C = Cherbourg; Q = Queenstown; S = Southampton)\n",
    "boat Lifeboat\n",
    "body Body Identification Number\n",
    "home.dest Home/Destination\n",
    "'''\n",
    "\n",
    "df.drop(['body','name'], 1, inplace=True)\n",
    "df.apply(pd.to_numeric, errors=\"ignore\")\n",
    "df.fillna(0, inplace=True)\n",
    "print(df.head())"
   ]
  },
  {
   "cell_type": "code",
   "execution_count": 2,
   "metadata": {
    "scrolled": false
   },
   "outputs": [
    {
     "name": "stdout",
     "output_type": "stream",
     "text": [
      "   pclass  survived  sex      age  sibsp  parch  ticket      fare  cabin  \\\n",
      "0       1         1    0  29.0000      0      0     758  211.3375     89   \n",
      "1       1         1    1   0.9167      1      2     535  151.5500      7   \n",
      "2       1         0    0   2.0000      1      2     535  151.5500      7   \n",
      "3       1         0    1  30.0000      1      2     535  151.5500      7   \n",
      "4       1         0    0  25.0000      1      2     535  151.5500      7   \n",
      "\n",
      "   embarked  boat  home.dest  \n",
      "0         2     1        129  \n",
      "1         2    21         18  \n",
      "2         2     0         18  \n",
      "3         2     0         18  \n",
      "4         2     0         18  \n"
     ]
    }
   ],
   "source": [
    "# handling non linear data\n",
    "# every unique element gets a corresponding number \n",
    "def handle_non_numerical_data(df):\n",
    "    columns = df.columns.values\n",
    "    for column in columns:\n",
    "        text_digit_vals = {}\n",
    "        def convert_to_int(val):\n",
    "            return text_digit_vals[val]\n",
    "\n",
    "        if df[column].dtype != np.int64 and df[column].dtype != np.float64:\n",
    "            column_contents = df[column].values.tolist()\n",
    "            unique_elements = set(column_contents)\n",
    "            x = 0\n",
    "            for unique in unique_elements:\n",
    "                if unique not in text_digit_vals:\n",
    "                    text_digit_vals[unique] = x\n",
    "                    x+=1\n",
    "\n",
    "            df[column] = list(map(convert_to_int, df[column]))\n",
    "\n",
    "    return df\n",
    "\n",
    "df = handle_non_numerical_data(df)\n",
    "print(df.head())"
   ]
  },
  {
   "cell_type": "code",
   "execution_count": 3,
   "metadata": {},
   "outputs": [
    {
     "name": "stdout",
     "output_type": "stream",
     "text": [
      "0.7203972498090145\n"
     ]
    }
   ],
   "source": [
    "X = np.array(df.drop(['survived'], 1).astype(float))\n",
    "X = preprocessing.scale(X)\n",
    "y = np.array(df['survived'])\n",
    "\n",
    "clf = KMeans(n_clusters=2)\n",
    "clf.fit(X)\n",
    "\n",
    "correct = 0\n",
    "for i in range(len(X)):\n",
    "    predict_me = np.array(X[i].astype(float))\n",
    "    predict_me = predict_me.reshape(-1, len(predict_me)) # makes double list [x1,x2...] -> [[x1,x2...]]\n",
    "    prediction = clf.predict(predict_me)\n",
    "    if prediction[0] == y[i]:\n",
    "        correct += 1\n",
    "print(correct/len(X))"
   ]
  }
 ],
 "metadata": {
  "kernelspec": {
   "display_name": "env",
   "language": "python",
   "name": "env"
  },
  "language_info": {
   "codemirror_mode": {
    "name": "ipython",
    "version": 3
   },
   "file_extension": ".py",
   "mimetype": "text/x-python",
   "name": "python",
   "nbconvert_exporter": "python",
   "pygments_lexer": "ipython3",
   "version": "3.7.4"
  }
 },
 "nbformat": 4,
 "nbformat_minor": 2
}
