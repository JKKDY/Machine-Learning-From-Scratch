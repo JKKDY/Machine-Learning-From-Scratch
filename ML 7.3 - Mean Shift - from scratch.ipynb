{
 "cells": [
  {
   "cell_type": "markdown",
   "metadata": {},
   "source": [
    "Internet Resources:\n",
    "\n",
    "[Python Programming.net - machine learning episodes 39-42](https://pythonprogramming.net/hierarchical-clustering-mean-shift-machine-learning-tutorial/)"
   ]
  },
  {
   "cell_type": "code",
   "execution_count": 1,
   "metadata": {
    "scrolled": false
   },
   "outputs": [
    {
     "data": {
      "image/png": "[encoded data removed]",
      "text/plain": [
       "<Figure size 432x288 with 1 Axes>"
      ]
     },
     "metadata": {},
     "output_type": "display_data"
    }
   ],
   "source": [
    "import matplotlib.pyplot as plt\n",
    "from matplotlib import style\n",
    "style.use('ggplot')\n",
    "import numpy as np\n",
    "from sklearn.datasets import make_blobs\n",
    "\n",
    "X, y = make_blobs(n_samples=25, centers=3, n_features=2, random_state=42)\n",
    "\n",
    "##X = np.array([[1, 2],\n",
    "##              [1.5, 1.8],\n",
    "##              [5, 8],\n",
    "##              [8, 8],\n",
    "##              [1, 0.6],\n",
    "##              [9, 11],\n",
    "##              [8, 2],\n",
    "##              [10, 2],\n",
    "##              [9, 3]])\n",
    "\n",
    "\n",
    "##plt.scatter(X[:, 0],X[:, 1], marker = \"x\", s=150, linewidths = 5, zorder = 10)\n",
    "##plt.show()\n",
    "\n",
    "#X = np.array([[-5, -4], [4,5], [3,-2], [-2,1]])\n",
    "\n",
    "colors = 10*[\"g\",\"r\",\"c\",\"b\",\"k\"]\n",
    "plt.scatter(X[:,0], X[:,1], s=50)\n",
    "plt.show()"
   ]
  },
  {
   "cell_type": "markdown",
   "metadata": {},
   "source": [
    "The goal is to find clusters in the dataset. The first implementation of this algorithm still requires the user to input a radius parameter.\n",
    "\n",
    "**Training algorithm for mean shift with fixed bandwitdth**\n",
    "\n",
    "    - 1. at start every data point is a centroid\n",
    "\n",
    "     Repeat until optimized: \n",
    "         for every centroid:\n",
    "            - 2. for every data point: calculate distance to centroid \n",
    "            - 3. new centroid = mean of all data points where distance of centroid and data point < radius\n",
    "\n",
    "**Prediction**  \n",
    "    - query is classified as class of nearest centroid"
   ]
  },
  {
   "cell_type": "markdown",
   "metadata": {},
   "source": [
    "![](notes_screenshots/MeanShift1.png)"
   ]
  },
  {
   "cell_type": "code",
   "execution_count": 2,
   "metadata": {
    "scrolled": false
   },
   "outputs": [
    {
     "data": {
      "image/png": "[encoded data removed]",
      "text/plain": [
       "<Figure size 432x288 with 1 Axes>"
      ]
     },
     "metadata": {},
     "output_type": "display_data"
    }
   ],
   "source": [
    "# mean shift without dynamic bandwidth\n",
    "class Mean_Shift_With_Fixed_Bandwidth:\n",
    "    def __init__(self, radius):\n",
    "        self.radius = radius\n",
    "        \n",
    "        \n",
    "    def fit(self, data):\n",
    "        centroids = {}\n",
    "        \n",
    "        # 1. every data point is initialized as centroid\n",
    "        for i in range(len(data)):\n",
    "            centroids[i] = data[i]\n",
    "            \n",
    "        # Repeat until optimized \n",
    "        while True:\n",
    "            new_centroids = []\n",
    "            \n",
    "            # for every centroid \n",
    "            for i in centroids: # i is centroid index\n",
    "                in_bandwidth = [] # list of all data points that are within a proximity of self.radius of centroid \n",
    "                centroid = centroids[i]\n",
    "                \n",
    "                # 2. for every data point: calculate distance to centroid \n",
    "                for featureset in data:\n",
    "                    if np.linalg.norm(featureset-centroid) < self.radius:\n",
    "                        in_bandwidth.append(featureset)\n",
    "                \n",
    "                # 3. new centroid = mean of all data points where distance of centroid and data point < self.radius\n",
    "                new_centroid = np.average(in_bandwidth,axis=0)\n",
    "                new_centroids.append(tuple(new_centroid)) # casts nparray to tuple\n",
    "            \n",
    "            # get rid of any duplicate centroids\n",
    "            uniques = sorted(list(set(new_centroids)))\n",
    "            \n",
    "            # need previous centroids to check if optimized\n",
    "            prev_centroids = dict(centroids)\n",
    "            \n",
    "            # set new centroids (=uniques) as current centroids\n",
    "            centroids = {i:np.array(uniques[i]) for i in range(len(uniques))}\n",
    "            \n",
    "            # is optimized if centroids are not moving anymore\n",
    "            optimized = True\n",
    "            for i in centroids:\n",
    "                if not np.array_equal(centroids[i], prev_centroids[i]):\n",
    "                      optimized = False\n",
    "                if not optimized:\n",
    "                    break\n",
    "            if optimized:\n",
    "                break\n",
    "\n",
    "        self.centroids = centroids\n",
    "            \n",
    "            \n",
    "mean_shift = Mean_Shift_With_Fixed_Bandwidth(radius=3)\n",
    "mean_shift.fit(X)\n",
    "\n",
    "mean_shift_centroids = mean_shift.centroids\n",
    "\n",
    "plt.scatter(X[:,0], X[:,1], s=150)\n",
    "\n",
    "for c in mean_shift_centroids:\n",
    "    plt.scatter(mean_shift_centroids[c][0], mean_shift_centroids[c][1], color='k', marker='*', s=150)\n",
    "\n",
    "plt.show()"
   ]
  },
  {
   "cell_type": "markdown",
   "metadata": {},
   "source": [
    "Mean shift with dynamic bandwidth differs from the implementation with fixed bandwidth in that it no longer requires a set bandwidth from the user. Instead it estimates a fitting radius. Additionally when calculating new means, each data point is weighted depending how near or far its away from the current mean.\n",
    "\n",
    "**Training algorithm for mean shift with dynamic bandwitdth**\n",
    "\n",
    "    - 1. at start every data point is a centroid\n",
    "    - 2. estimate  radius:\n",
    "        radius = mean(distance of every datapoint to mean of entire dataset)\n",
    "        \n",
    "     Repeat until optimized: \n",
    "         for every centroid:\n",
    "            - 3. for every data point: calculate distance to centroid and assign weight to it. \n",
    "            - 4. calculate new centroid: new centroid = mean of all weighted  data points within radius            \n",
    "            \n",
    "**Prediction:**  \n",
    "    - query is classified as class of nearest centroid"
   ]
  },
  {
   "cell_type": "markdown",
   "metadata": {},
   "source": [
    "![](notes_screenshots/MeanShift2.png)"
   ]
  },
  {
   "cell_type": "code",
   "execution_count": 3,
   "metadata": {},
   "outputs": [
    {
     "name": "stdout",
     "output_type": "stream",
     "text": [
      "radius: 7.7154956944971165\n",
      "Converged @ iteration  4\n",
      "{0: array([-6.90317619, -6.89931766]), 1: array([-2.73110315,  8.49395546]), 2: array([4.1924512 , 1.71794089])}\n"
     ]
    },
    {
     "data": {
      "image/png": "[encoded data removed]",
      "text/plain": [
       "<Figure size 432x288 with 1 Axes>"
      ]
     },
     "metadata": {},
     "output_type": "display_data"
    }
   ],
   "source": [
    "class Mean_Shift_With_Dynamic_Bandwith:\n",
    "    def __init__(self, radius_norm_step = 100):\n",
    "        self.radius_norm_step = radius_norm_step # controls how many discrete wights are used\n",
    "    \n",
    "    def fit(self,data,max_iter=1000, weight_fkt=lambda x : x**2): # weight_fkt: how to weight distances \n",
    "        # 1. every data point is a centroid\n",
    "        self.centroids = {i:data[i] for i in range(len(data))}\n",
    "        \n",
    "        # 2. radius calculation\n",
    "        mean_of_entire_data = np.average(data,axis=0) \n",
    "        # all_distances= list of distances for ever data point to mean of entire date\n",
    "        all_distances = [np.linalg.norm(datapoint-mean_of_entire_data) for datapoint in data]\n",
    "        self.radius = np.mean(all_distances)\n",
    "        print(\"radius:\", self.radius)\n",
    "        \n",
    "        # list of discrete weights: let n = self.radius_norm_step -> weights = [n-1,n-2,n-3,...,2,1]\n",
    "        weights = [i for i in range(self.radius_norm_step)][::-1] # [::-1] inverts list\n",
    "        \n",
    "        # do until convergence\n",
    "        for count in range(max_iter):\n",
    "            new_centroids = []\n",
    "            \n",
    "            # for each centroid\n",
    "            for centroid_class in self.centroids:\n",
    "                centroid = self.centroids[centroid_class]\n",
    "                \n",
    "                # 3. weigh data points\n",
    "                new_centroid_weights = []\n",
    "                for data_point in data:\n",
    "                    weight_index = int(np.linalg.norm(data_point - centroid)/self.radius * self.radius_norm_step)\n",
    "                    new_centroid_weights.append(weight_fkt(weights[min(weight_index, self.radius_norm_step)-1]))\n",
    "                    \n",
    "                # calculate new centroid\n",
    "                # w: weight, x: sample\n",
    "                new_centroid = np.sum([ w*x for w, x in zip(new_centroid_weights, data)], axis=0) / np.sum(new_centroid_weights)\n",
    "                new_centroids.append(tuple(new_centroid))\n",
    "                                                    \n",
    "            uniques = sorted(list(set(new_centroids)))\n",
    "            \n",
    "            #remove non uniques\n",
    "            for i in uniques:\n",
    "                for ii in [i for i in uniques]:\n",
    "                    # centroid is near enough to another centroid to merge\n",
    "                    if not i == ii and np.linalg.norm(np.array(i)-np.array(ii)) <= self.radius/self.radius_norm_step:\n",
    "                        uniques.remove(ii)\n",
    "                        \n",
    "            \n",
    "            prev_centroids = dict(self.centroids)\n",
    "            self.centroids = {}\n",
    "            for i in range(len(uniques)):\n",
    "                self.centroids[i] = np.array(uniques[i])\n",
    "                    \n",
    "            # check if optimized\n",
    "            optimized = True\n",
    "            for i in self.centroids:\n",
    "                if not np.array_equal(self.centroids[i], prev_centroids[i]):\n",
    "                    optimized = False\n",
    "\n",
    "            if optimized:\n",
    "                print(\"Converged @ iteration \", count)\n",
    "                break\n",
    "               \n",
    "        # classify training data\n",
    "        self.classifications = {i:[] for i in range(len(self.centroids))}\n",
    "        for featureset in data:\n",
    "            #compare distance to either centroid\n",
    "            distances = [np.linalg.norm(featureset-self.centroids[centroid]) for centroid in self.centroids]\n",
    "            classification = (distances.index(min(distances)))\n",
    "\n",
    "            # featureset that belongs to that cluster\n",
    "            self.classifications[classification].append(featureset)\n",
    "\n",
    "\n",
    "    def predict(self,data):\n",
    "        #compare distance to either centroid\n",
    "        distances = [np.linalg.norm(data-self.centroids[centroid]) for centroid in self.centroids]\n",
    "        classification = (distances.index(min(distances)))\n",
    "        return classification\n",
    "\n",
    "            \n",
    "clf = Mean_Shift_With_Dynamic_Bandwith()\n",
    "clf.fit(X)\n",
    "\n",
    "centroids = clf.centroids\n",
    "print(centroids)\n",
    "\n",
    "colors = 10*['r','g','b','c','k','y']\n",
    "\n",
    "for classification in clf.classifications:\n",
    "    color = colors[classification]\n",
    "    for featureset in clf.classifications[classification]:\n",
    "        plt.scatter(featureset[0],featureset[1], marker = \"x\", color=color, s=150, linewidths = 5, zorder = 10)\n",
    "\n",
    "for c in centroids:\n",
    "    plt.scatter(centroids[c][0],centroids[c][1], color='k', marker = \"*\", s=150, linewidths = 5)\n",
    "\n",
    "\n",
    "plt.show()"
   ]
  }
 ],
 "metadata": {
  "kernelspec": {
   "display_name": "tutorial-env",
   "language": "python",
   "name": "tutorial-env"
  },
  "language_info": {
   "codemirror_mode": {
    "name": "ipython",
    "version": 3
   },
   "file_extension": ".py",
   "mimetype": "text/x-python",
   "name": "python",
   "nbconvert_exporter": "python",
   "pygments_lexer": "ipython3",
   "version": "3.8.3"
  }
 },
 "nbformat": 4,
 "nbformat_minor": 4
}
