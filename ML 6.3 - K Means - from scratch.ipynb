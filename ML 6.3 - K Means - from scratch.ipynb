{
 "cells": [
  {
   "cell_type": "markdown",
   "metadata": {},
   "source": [
    "Internet Resources:\n",
    "\n",
    "[Python Programming.net - machine learning episodes 34-38](https://pythonprogramming.net/machine-learning-clustering-introduction-machine-learning-tutorial/)"
   ]
  },
  {
   "cell_type": "code",
   "execution_count": 1,
   "metadata": {
    "scrolled": false
   },
   "outputs": [
    {
     "data": {
      "image/png": "[encoded data removed]",
      "text/plain": [
       "<Figure size 432x288 with 1 Axes>"
      ]
     },
     "metadata": {},
     "output_type": "display_data"
    }
   ],
   "source": [
    "import matplotlib.pyplot as plt\n",
    "from matplotlib import style\n",
    "style.use('ggplot')\n",
    "import numpy as np\n",
    "\n",
    "X = np.array([[1, 2],\n",
    "              [1.5, 1.8],\n",
    "              [5, 8 ],\n",
    "              [8, 8],\n",
    "              [1, 0.6],\n",
    "              [9,11]])\n",
    "\n",
    "colors = 10*[\"g\",\"r\",\"c\",\"b\",\"k\"]\n",
    "\n",
    "plt.scatter(X[:,0], X[:,1], s=50)\n",
    "plt.show()"
   ]
  },
  {
   "cell_type": "markdown",
   "metadata": {},
   "source": [
    "The objective is to find k different clusters. K means uses an iterative alogirthm\n",
    "\n",
    "\n",
    " **Training Algorithm:** \n",
    "\n",
    "\t1. Pick K random points (=initial K means)\n",
    "\t\n",
    "    Repeat steps 2 & 3 for fixed amount of iterations or until optimization threshold is reached:\n",
    "        2. For every data point:\n",
    "            1. Take distance to each Mean\n",
    "            2. Nearest Mean is the data-points classification\n",
    "\t\t\n",
    "        3. For every Mean:\n",
    "            new mean = mean of all data-points classified as belonging to this mean\n",
    "<br>\n",
    "\n",
    "**Prediction  Function:**\n",
    "\n",
    "\t1. Take distance of data-point to all k Means  \n",
    "    2. Data-point is assigned class of the nearest mean"
   ]
  },
  {
   "cell_type": "code",
   "execution_count": 2,
   "metadata": {
    "scrolled": true
   },
   "outputs": [
    {
     "data": {
      "image/png": "[encoded data removed]",
      "text/plain": [
       "<Figure size 432x288 with 1 Axes>"
      ]
     },
     "metadata": {},
     "output_type": "display_data"
    }
   ],
   "source": [
    "class K_Means:\n",
    "    def __init__(self, k=2, tol=0.001, max_iter=300):\n",
    "        self.k = k\n",
    "        self.tol = tol # if mean moves less than this distance per training step, we are done training\n",
    "        self.max_iter = max_iter # max iteration\n",
    "        \n",
    "        \n",
    "    def fit(self,data):\n",
    "        self.centroids = {}\n",
    "        \n",
    "        #  step 1: initilize random k means\n",
    "        for i in range(self.k):\n",
    "            self.centroids[i] = data[i]\n",
    "        \n",
    "        \n",
    "        for i in range(self.max_iter):\n",
    "            \n",
    "            # stores which class each sample belongs to e.g {0: [sample1,sample2,..], 1:[sample3,..], 2[..], ..}\n",
    "            self.classifications = {i:[] for i in range(self.k)} \n",
    "            \n",
    "            # step 2: for every data point\n",
    "            for sample in data:\n",
    "                # step 2.1: take distance between data point and centroids \n",
    "                distances = [np.linalg.norm(sample-self.centroids[centroid]) for centroid in self.centroids]\n",
    "                # step 2.2: classification of datapoint is the nearest centroid (i-th position in distances means i-th centroid)\n",
    "                classification = distances.index(min(distances))\n",
    "                self.classifications[classification].append(sample)\n",
    "            \n",
    "            # we need to store previous centroids so we know when we have reached optimization threshold\n",
    "            prev_centroids = dict(self.centroids)\n",
    "            \n",
    "            # step 3: calculate new means\n",
    "            for classification in self.classifications:\n",
    "                 self.centroids[classification] = np.average(self.classifications[classification],axis=0)\n",
    "            \n",
    "            # check if have reached optimization threshold\n",
    "            optimized = True\n",
    "            for c in self.centroids:\n",
    "                original_centroid = prev_centroids[c]\n",
    "                current_centroid = self.centroids[c]\n",
    "                if np.sum((current_centroid-original_centroid)/original_centroid*100.0) > self.tol:\n",
    "                    optimized = False\n",
    "            \n",
    "            if optimized:\n",
    "                break\n",
    "    \n",
    "    def predict(self,data):\n",
    "        # calculate distances\n",
    "        distances = [np.linalg.norm(data-self.centroids[centroid]) for centroid in self.centroids]\n",
    "        # classifaction is that of nearest mean\n",
    "        classification = distances.index(min(distances))\n",
    "        return classification\n",
    "    \n",
    "    \n",
    "clf = K_Means()\n",
    "clf.fit(X)\n",
    "\n",
    "for centroid in clf.centroids:\n",
    "    plt.scatter(clf.centroids[centroid][0], clf.centroids[centroid][1],\n",
    "                marker=\"o\", color=\"k\", s=50, linewidths=5)\n",
    "\n",
    "for classification in clf.classifications:\n",
    "    color = colors[classification]\n",
    "    for featureset in clf.classifications[classification]:\n",
    "        plt.scatter(featureset[0], featureset[1], marker=\"x\", color=color, s=50, linewidths=5)\n",
    "        \n",
    "plt.show()"
   ]
  }
 ],
 "metadata": {
  "kernelspec": {
   "display_name": "tutorial-env",
   "language": "python",
   "name": "tutorial-env"
  },
  "language_info": {
   "codemirror_mode": {
    "name": "ipython",
    "version": 3
   },
   "file_extension": ".py",
   "mimetype": "text/x-python",
   "name": "python",
   "nbconvert_exporter": "python",
   "pygments_lexer": "ipython3",
   "version": "3.8.3"
  }
 },
 "nbformat": 4,
 "nbformat_minor": 2
}
