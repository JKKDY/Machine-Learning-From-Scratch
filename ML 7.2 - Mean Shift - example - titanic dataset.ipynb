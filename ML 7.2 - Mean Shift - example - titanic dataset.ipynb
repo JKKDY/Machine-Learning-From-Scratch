{
 "cells": [
  {
   "cell_type": "markdown",
   "metadata": {},
   "source": [
    "Internet Resources:\n",
    "\n",
    "[Python Programming.net - machine learning episodes 39-42](https://pythonprogramming.net/hierarchical-clustering-mean-shift-machine-learning-tutorial/)"
   ]
  },
  {
   "cell_type": "code",
   "execution_count": 1,
   "metadata": {},
   "outputs": [
    {
     "data": {
      "text/plain": [
       "MeanShift(bandwidth=None, bin_seeding=False, cluster_all=True, min_bin_freq=1,\n",
       "          n_jobs=None, seeds=None)"
      ]
     },
     "execution_count": 1,
     "metadata": {},
     "output_type": "execute_result"
    }
   ],
   "source": [
    "import matplotlib.pyplot as plt\n",
    "from matplotlib import style\n",
    "style.use('ggplot')\n",
    "import numpy as np\n",
    "from sklearn.cluster import MeanShift\n",
    "from sklearn import preprocessing\n",
    "import pandas as pd\n",
    "\n",
    "df = pd.read_excel('data/titanic.xls') # data from https://pythonprogramming.net/static/downloads/machine-learning-data/titanic.xls\n",
    "\n",
    "'''\n",
    "Pclass Passenger Class (1 = 1st; 2 = 2nd; 3 = 3rd)\n",
    "survival Survival (0 = No; 1 = Yes)\n",
    "name Name\n",
    "sex Sex\n",
    "age Age\n",
    "sibsp Number of Siblings/Spouses Aboard\n",
    "parch Number of Parents/Children Aboard\n",
    "ticket Ticket Number\n",
    "fare Passenger Fare (British pound)\n",
    "cabin Cabin\n",
    "embarked Port of Embarkation (C = Cherbourg; Q = Queenstown; S = Southampton)\n",
    "boat Lifeboat\n",
    "body Body Identification Number\n",
    "home.dest Home/Destination\n",
    "'''\n",
    "\n",
    "original_df = pd.DataFrame.copy(df)\n",
    "\n",
    "df.drop(['body','name'], 1, inplace=True)\n",
    "df.apply(pd.to_numeric, errors=\"ignore\")\n",
    "df.fillna(0, inplace=True)\n",
    "\n",
    "def handle_non_numerical_data(df):\n",
    "    columns = df.columns.values\n",
    "    for column in columns:\n",
    "        text_digit_vals = {}\n",
    "        def convert_to_int(val):\n",
    "            return text_digit_vals[val]\n",
    "\n",
    "        if df[column].dtype != np.int64 and df[column].dtype != np.float64:\n",
    "            column_contents = df[column].values.tolist()\n",
    "            unique_elements = set(column_contents)\n",
    "            x = 0\n",
    "            for unique in unique_elements:\n",
    "                if unique not in text_digit_vals:\n",
    "                    text_digit_vals[unique] = x\n",
    "                    x+=1\n",
    "\n",
    "            df[column] = list(map(convert_to_int, df[column]))\n",
    "\n",
    "    return df\n",
    "\n",
    "df = handle_non_numerical_data(df)\n",
    "\n",
    "X = np.array(df.drop(['survived'], 1).astype(float))\n",
    "X = preprocessing.scale(X)\n",
    "y = np.array(df['survived'])\n",
    "\n",
    "clf = MeanShift()\n",
    "clf.fit(X)"
   ]
  },
  {
   "cell_type": "code",
   "execution_count": 2,
   "metadata": {
    "scrolled": false
   },
   "outputs": [
    {
     "name": "stdout",
     "output_type": "stream",
     "text": [
      "0 :  0.37936384794414274\n",
      "1 :  0.9090909090909091\n",
      "2 :  0.1111111111111111\n"
     ]
    }
   ],
   "source": [
    "labels = clf.labels_\n",
    "cluster_centers = clf.cluster_centers_\n",
    "original_df['cluster_group']=np.nan\n",
    "\n",
    "for i in range(len(X)):\n",
    "    original_df.at[i, 'cluster_group'] = labels[i] \n",
    "\n",
    "n_clusters_ = len(np.unique(labels))\n",
    "\n",
    "survival_rates = {}\n",
    "for i in range(n_clusters_):\n",
    "    temp_df = original_df[ (original_df['cluster_group']==float(i)) ] # temp only has data with cluster_group i\n",
    "    #print(temp_df.head())\n",
    "    \n",
    "    survival_cluster = temp_df[  (temp_df['survived'] == 1) ] # temp df just with only suvivors\n",
    "    \n",
    "    survival_rate = len(survival_cluster) / len(temp_df)\n",
    "    print(i,\": \",survival_rate)\n",
    "    survival_rates[i] = survival_rate"
   ]
  },
  {
   "cell_type": "code",
   "execution_count": 3,
   "metadata": {},
   "outputs": [
    {
     "name": "stdout",
     "output_type": "stream",
     "text": [
      "Cluster 0:\n",
      "\n",
      "            pclass     survived          age        sibsp        parch  \\\n",
      "count  1289.000000  1289.000000  1028.000000  1289.000000  1289.000000   \n",
      "mean      2.301009     0.379364    29.700065     0.491078     0.334368   \n",
      "std       0.833689     0.485417    14.405586     1.041137     0.695420   \n",
      "min       1.000000     0.000000     0.166700     0.000000     0.000000   \n",
      "25%       2.000000     0.000000    21.000000     0.000000     0.000000   \n",
      "50%       3.000000     0.000000    28.000000     0.000000     0.000000   \n",
      "75%       3.000000     1.000000    38.000000     1.000000     0.000000   \n",
      "max       3.000000     1.000000    80.000000     8.000000     5.000000   \n",
      "\n",
      "              fare        body  cluster_group  \n",
      "count  1288.000000  120.000000         1289.0  \n",
      "mean     30.484575  160.966667            0.0  \n",
      "std      41.361693   98.091274            0.0  \n",
      "min       0.000000    1.000000            0.0  \n",
      "25%       7.895800   71.500000            0.0  \n",
      "50%      14.254150  155.500000            0.0  \n",
      "75%      30.070800  256.500000            0.0  \n",
      "max     263.000000  328.000000            0.0  \n",
      "\n",
      "\n",
      "\n",
      "\n",
      "Cluster 1:\n",
      "\n",
      "       pclass   survived        age      sibsp      parch        fare  body  \\\n",
      "count    11.0  11.000000  11.000000  11.000000  11.000000   11.000000   0.0   \n",
      "mean      1.0   0.909091  40.363636   1.090909   1.636364  353.494709   NaN   \n",
      "std       0.0   0.301511  14.136992   1.300350   1.361817  125.928216   NaN   \n",
      "min       1.0   0.000000  23.000000   0.000000   0.000000  262.375000   NaN   \n",
      "25%       1.0   1.000000  31.500000   0.000000   0.500000  262.687500   NaN   \n",
      "50%       1.0   1.000000  36.000000   1.000000   2.000000  263.000000   NaN   \n",
      "75%       1.0   1.000000  53.000000   2.000000   2.500000  512.329200   NaN   \n",
      "max       1.0   1.000000  61.000000   3.000000   4.000000  512.329200   NaN   \n",
      "\n",
      "       cluster_group  \n",
      "count           11.0  \n",
      "mean             1.0  \n",
      "std              0.0  \n",
      "min              1.0  \n",
      "25%              1.0  \n",
      "50%              1.0  \n",
      "75%              1.0  \n",
      "max              1.0  \n",
      "\n",
      "\n",
      "\n",
      "\n",
      "Cluster 2:\n",
      "\n",
      "       pclass  survived        age     sibsp     parch       fare   body  \\\n",
      "count     9.0  9.000000   7.000000  9.000000  9.000000   9.000000    1.0   \n",
      "mean      3.0  0.111111  40.000000  0.888889  6.111111  44.212500  142.0   \n",
      "std       0.0  0.333333   1.632993  0.333333  1.691482  15.742529    NaN   \n",
      "min       3.0  0.000000  38.000000  0.000000  5.000000  31.275000  142.0   \n",
      "25%       3.0  0.000000  39.000000  1.000000  5.000000  31.387500  142.0   \n",
      "50%       3.0  0.000000  40.000000  1.000000  5.000000  39.687500  142.0   \n",
      "75%       3.0  0.000000  40.500000  1.000000  6.000000  46.900000  142.0   \n",
      "max       3.0  1.000000  43.000000  1.000000  9.000000  69.550000  142.0   \n",
      "\n",
      "       cluster_group  \n",
      "count            9.0  \n",
      "mean             2.0  \n",
      "std              0.0  \n",
      "min              2.0  \n",
      "25%              2.0  \n",
      "50%              2.0  \n",
      "75%              2.0  \n",
      "max              2.0  \n",
      "\n",
      "\n",
      "\n",
      "\n"
     ]
    }
   ],
   "source": [
    "for i in range(n_clusters_):\n",
    "    print(\"Cluster \"+str(i)+ \":\\n\")\n",
    "    print(original_df[(original_df['cluster_group'] == float(i))].describe())\n",
    "    print(\"\\n\\n\\n\")"
   ]
  }
 ],
 "metadata": {
  "kernelspec": {
   "display_name": "env",
   "language": "python",
   "name": "env"
  },
  "language_info": {
   "codemirror_mode": {
    "name": "ipython",
    "version": 3
   },
   "file_extension": ".py",
   "mimetype": "text/x-python",
   "name": "python",
   "nbconvert_exporter": "python",
   "pygments_lexer": "ipython3",
   "version": "3.7.4"
  }
 },
 "nbformat": 4,
 "nbformat_minor": 2
}
